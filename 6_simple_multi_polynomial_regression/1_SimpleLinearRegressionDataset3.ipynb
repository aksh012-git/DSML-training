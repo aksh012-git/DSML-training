{
  "nbformat": 4,
  "nbformat_minor": 0,
  "metadata": {
    "colab": {
      "name": "DSMLpractical_3.ipynb",
      "provenance": [],
      "collapsed_sections": []
    },
    "kernelspec": {
      "name": "python3",
      "display_name": "Python 3"
    },
    "language_info": {
      "name": "python"
    }
  },
  "cells": [
    {
      "cell_type": "code",
      "metadata": {
        "id": "7YWgt4gJnFhB"
      },
      "source": [
        "\"\"\"\n",
        "in machine learing classify---->>\n",
        "\n",
        "1) supervised learning --> whenever you knowledge about dataset then to have label dataset available with you, \n",
        "                           means a column title available with you,than this is supervised learning\n",
        "                           two method ---> 1)Regression  2)Classification\n",
        "\n",
        "2)unsupervised learning --> whenever you knowledge about dataset then to have label dataset is not available, \n",
        "                            means proper information is not available or column title is not there then is unsupervised learning\n",
        "\n",
        "3)semi-supervised learning\n",
        "4)renforcement learning\n",
        "\n",
        "\n",
        "your dataset value categorize in tow part--->>\n",
        "\n",
        "1)continuous set of values ---> in this dataset value is not a limited, Ex-> your of experience and salary \n",
        "2)discrete set of values ---> in this datset alue is limited output, Ex-> man purchase Audi car or not then only output 'Yes' or 'No'\n",
        "\n",
        "-your value \"Continuous set of value\" then you can use \"Regression\"\n",
        "-your value \"discrete set of values\" then you can use \"Classification\" \n",
        "\n",
        "\n",
        "Many Type of regression are available--->>\n",
        "1)simple Linear regression - in dataset one Input and one Output then you follow SLR , https://www.youtube.com/watch?v=Ni5QwU-xaUs\n",
        "2)multi Linear regression - in dataset Many I/p and one O/p then you follow MLR\n",
        "3)ploynomial regression,etc \n",
        "\n",
        "\n",
        "y = mx + c\n",
        "\n",
        "y = Dependent variable(output)\n",
        "x = Independent variable(input)\n",
        "m = slop\n",
        "c = y-intercept\n",
        "\n",
        "\"\"\""
      ],
      "execution_count": null,
      "outputs": []
    },
    {
      "cell_type": "code",
      "metadata": {
        "colab": {
          "base_uri": "https://localhost:8080/",
          "height": 204
        },
        "id": "VhsxMc2ph1bw",
        "outputId": "ec7d9105-ed0d-4738-e70e-a5058b3fd35b"
      },
      "source": [
        "#to read our dataset\n",
        "import pandas as pd\n",
        "dataset3 = pd.read_csv('/content/dataset3.csv')\n",
        "dataset3.head()"
      ],
      "execution_count": 138,
      "outputs": [
        {
          "output_type": "execute_result",
          "data": {
            "text/html": [
              "<div>\n",
              "<style scoped>\n",
              "    .dataframe tbody tr th:only-of-type {\n",
              "        vertical-align: middle;\n",
              "    }\n",
              "\n",
              "    .dataframe tbody tr th {\n",
              "        vertical-align: top;\n",
              "    }\n",
              "\n",
              "    .dataframe thead th {\n",
              "        text-align: right;\n",
              "    }\n",
              "</style>\n",
              "<table border=\"1\" class=\"dataframe\">\n",
              "  <thead>\n",
              "    <tr style=\"text-align: right;\">\n",
              "      <th></th>\n",
              "      <th>YearsExperience</th>\n",
              "      <th>Salary</th>\n",
              "    </tr>\n",
              "  </thead>\n",
              "  <tbody>\n",
              "    <tr>\n",
              "      <th>0</th>\n",
              "      <td>1.1</td>\n",
              "      <td>39343.0</td>\n",
              "    </tr>\n",
              "    <tr>\n",
              "      <th>1</th>\n",
              "      <td>1.3</td>\n",
              "      <td>46205.0</td>\n",
              "    </tr>\n",
              "    <tr>\n",
              "      <th>2</th>\n",
              "      <td>1.5</td>\n",
              "      <td>37731.0</td>\n",
              "    </tr>\n",
              "    <tr>\n",
              "      <th>3</th>\n",
              "      <td>2.0</td>\n",
              "      <td>43525.0</td>\n",
              "    </tr>\n",
              "    <tr>\n",
              "      <th>4</th>\n",
              "      <td>2.2</td>\n",
              "      <td>39891.0</td>\n",
              "    </tr>\n",
              "  </tbody>\n",
              "</table>\n",
              "</div>"
            ],
            "text/plain": [
              "   YearsExperience   Salary\n",
              "0              1.1  39343.0\n",
              "1              1.3  46205.0\n",
              "2              1.5  37731.0\n",
              "3              2.0  43525.0\n",
              "4              2.2  39891.0"
            ]
          },
          "metadata": {
            "tags": []
          },
          "execution_count": 138
        }
      ]
    },
    {
      "cell_type": "code",
      "metadata": {
        "colab": {
          "base_uri": "https://localhost:8080/"
        },
        "id": "EjCXLeiL1e4c",
        "outputId": "ebb3b54b-bce5-432a-b228-d6032c35aa87"
      },
      "source": [
        "dataset3.shape"
      ],
      "execution_count": 139,
      "outputs": [
        {
          "output_type": "execute_result",
          "data": {
            "text/plain": [
              "(30, 2)"
            ]
          },
          "metadata": {
            "tags": []
          },
          "execution_count": 139
        }
      ]
    },
    {
      "cell_type": "code",
      "metadata": {
        "colab": {
          "base_uri": "https://localhost:8080/"
        },
        "id": "yKu5WI3-1wCs",
        "outputId": "f02a79d9-ee7e-4601-c1cc-df824e6de695"
      },
      "source": [
        "dataset3.info()\n",
        "\n",
        "#in this dataset no missing value"
      ],
      "execution_count": 140,
      "outputs": [
        {
          "output_type": "stream",
          "text": [
            "<class 'pandas.core.frame.DataFrame'>\n",
            "RangeIndex: 30 entries, 0 to 29\n",
            "Data columns (total 2 columns):\n",
            " #   Column           Non-Null Count  Dtype  \n",
            "---  ------           --------------  -----  \n",
            " 0   YearsExperience  30 non-null     float64\n",
            " 1   Salary           30 non-null     float64\n",
            "dtypes: float64(2)\n",
            "memory usage: 608.0 bytes\n"
          ],
          "name": "stdout"
        }
      ]
    },
    {
      "cell_type": "code",
      "metadata": {
        "colab": {
          "base_uri": "https://localhost:8080/"
        },
        "id": "pCbvJ8CY10QU",
        "outputId": "8c27fab6-c26c-4be3-eda2-d57d9ac67987"
      },
      "source": [
        "#split dataset3 into I/p and O/p\n",
        "#x is input\n",
        "x = dataset3.iloc[:,:1].values\n",
        "x"
      ],
      "execution_count": 141,
      "outputs": [
        {
          "output_type": "execute_result",
          "data": {
            "text/plain": [
              "array([[ 1.1],\n",
              "       [ 1.3],\n",
              "       [ 1.5],\n",
              "       [ 2. ],\n",
              "       [ 2.2],\n",
              "       [ 2.9],\n",
              "       [ 3. ],\n",
              "       [ 3.2],\n",
              "       [ 3.2],\n",
              "       [ 3.7],\n",
              "       [ 3.9],\n",
              "       [ 4. ],\n",
              "       [ 4. ],\n",
              "       [ 4.1],\n",
              "       [ 4.5],\n",
              "       [ 4.9],\n",
              "       [ 5.1],\n",
              "       [ 5.3],\n",
              "       [ 5.9],\n",
              "       [ 6. ],\n",
              "       [ 6.8],\n",
              "       [ 7.1],\n",
              "       [ 7.9],\n",
              "       [ 8.2],\n",
              "       [ 8.7],\n",
              "       [ 9. ],\n",
              "       [ 9.5],\n",
              "       [ 9.6],\n",
              "       [10.3],\n",
              "       [10.5]])"
            ]
          },
          "metadata": {
            "tags": []
          },
          "execution_count": 141
        }
      ]
    },
    {
      "cell_type": "code",
      "metadata": {
        "colab": {
          "base_uri": "https://localhost:8080/"
        },
        "id": "8X39m8qk2O_3",
        "outputId": "529dae91-1e28-4cf3-b916-eb0c97351b2e"
      },
      "source": [
        "#y is output\n",
        "y = dataset3.iloc[:,1].values\n",
        "y"
      ],
      "execution_count": 142,
      "outputs": [
        {
          "output_type": "execute_result",
          "data": {
            "text/plain": [
              "array([ 39343.,  46205.,  37731.,  43525.,  39891.,  56642.,  60150.,\n",
              "        54445.,  64445.,  57189.,  63218.,  55794.,  56957.,  57081.,\n",
              "        61111.,  67938.,  66029.,  83088.,  81363.,  93940.,  91738.,\n",
              "        98273., 101302., 113812., 109431., 105582., 116969., 112635.,\n",
              "       122391., 121872.])"
            ]
          },
          "metadata": {
            "tags": []
          },
          "execution_count": 142
        }
      ]
    },
    {
      "cell_type": "code",
      "metadata": {
        "id": "bj0PCrLf2zCc"
      },
      "source": [
        "#spliting datset3 into traing and testing\n",
        "from sklearn.model_selection import train_test_split\n",
        "x_train,x_test,y_train,y_test = train_test_split(x,y,test_size=1/3,random_state=0)"
      ],
      "execution_count": 143,
      "outputs": []
    },
    {
      "cell_type": "code",
      "metadata": {
        "colab": {
          "base_uri": "https://localhost:8080/"
        },
        "id": "j5JVJF9b4WWA",
        "outputId": "6b5e910e-9f87-4c17-f353-b1526d4dec7d"
      },
      "source": [
        "x_train"
      ],
      "execution_count": 144,
      "outputs": [
        {
          "output_type": "execute_result",
          "data": {
            "text/plain": [
              "array([[ 2.9],\n",
              "       [ 5.1],\n",
              "       [ 3.2],\n",
              "       [ 4.5],\n",
              "       [ 8.2],\n",
              "       [ 6.8],\n",
              "       [ 1.3],\n",
              "       [10.5],\n",
              "       [ 3. ],\n",
              "       [ 2.2],\n",
              "       [ 5.9],\n",
              "       [ 6. ],\n",
              "       [ 3.7],\n",
              "       [ 3.2],\n",
              "       [ 9. ],\n",
              "       [ 2. ],\n",
              "       [ 1.1],\n",
              "       [ 7.1],\n",
              "       [ 4.9],\n",
              "       [ 4. ]])"
            ]
          },
          "metadata": {
            "tags": []
          },
          "execution_count": 144
        }
      ]
    },
    {
      "cell_type": "code",
      "metadata": {
        "colab": {
          "base_uri": "https://localhost:8080/"
        },
        "id": "CZ_kPqSo6PaJ",
        "outputId": "fe95a6bf-a110-4ff9-f5bf-b8b4d1250aa0"
      },
      "source": [
        "x_test"
      ],
      "execution_count": 145,
      "outputs": [
        {
          "output_type": "execute_result",
          "data": {
            "text/plain": [
              "array([[ 1.5],\n",
              "       [10.3],\n",
              "       [ 4.1],\n",
              "       [ 3.9],\n",
              "       [ 9.5],\n",
              "       [ 8.7],\n",
              "       [ 9.6],\n",
              "       [ 4. ],\n",
              "       [ 5.3],\n",
              "       [ 7.9]])"
            ]
          },
          "metadata": {
            "tags": []
          },
          "execution_count": 145
        }
      ]
    },
    {
      "cell_type": "code",
      "metadata": {
        "colab": {
          "base_uri": "https://localhost:8080/"
        },
        "id": "OfwGiqw06Sg1",
        "outputId": "4c1e7517-dfea-4b29-d05d-0ef881cb85b8"
      },
      "source": [
        "y_train"
      ],
      "execution_count": 146,
      "outputs": [
        {
          "output_type": "execute_result",
          "data": {
            "text/plain": [
              "array([ 56642.,  66029.,  64445.,  61111., 113812.,  91738.,  46205.,\n",
              "       121872.,  60150.,  39891.,  81363.,  93940.,  57189.,  54445.,\n",
              "       105582.,  43525.,  39343.,  98273.,  67938.,  56957.])"
            ]
          },
          "metadata": {
            "tags": []
          },
          "execution_count": 146
        }
      ]
    },
    {
      "cell_type": "code",
      "metadata": {
        "colab": {
          "base_uri": "https://localhost:8080/"
        },
        "id": "1RDHT4gJ6Wh4",
        "outputId": "07695efb-2859-4756-feb5-424f533cbd83"
      },
      "source": [
        "y_test"
      ],
      "execution_count": 147,
      "outputs": [
        {
          "output_type": "execute_result",
          "data": {
            "text/plain": [
              "array([ 37731., 122391.,  57081.,  63218., 116969., 109431., 112635.,\n",
              "        55794.,  83088., 101302.])"
            ]
          },
          "metadata": {
            "tags": []
          },
          "execution_count": 147
        }
      ]
    },
    {
      "cell_type": "code",
      "metadata": {
        "colab": {
          "base_uri": "https://localhost:8080/"
        },
        "id": "iHH_7Sm46Yb-",
        "outputId": "f0a034bf-427b-4fd5-8a68-e1838c45ca42"
      },
      "source": [
        " #for simple linear regression\n",
        "from sklearn.linear_model import LinearRegression\n",
        "\n",
        "#make machine learning model\n",
        "regeressor = LinearRegression()\n",
        "#ML model is empty at that time \n",
        "\n",
        "#you want to train your ML model than fit \n",
        "regeressor.fit(x_train,y_train)"
      ],
      "execution_count": 148,
      "outputs": [
        {
          "output_type": "execute_result",
          "data": {
            "text/plain": [
              "LinearRegression(copy_X=True, fit_intercept=True, n_jobs=None, normalize=False)"
            ]
          },
          "metadata": {
            "tags": []
          },
          "execution_count": 148
        }
      ]
    },
    {
      "cell_type": "code",
      "metadata": {
        "id": "JuVgUX-57PF3",
        "colab": {
          "base_uri": "https://localhost:8080/"
        },
        "outputId": "beb17df6-9abd-4b72-e9e0-43750e339c5b"
      },
      "source": [
        "#predicting the test result\n",
        "y_pred = regeressor.predict(x_test)\n",
        "y_pred\n",
        "\n",
        "#see and  y_pred and y_test "
      ],
      "execution_count": 149,
      "outputs": [
        {
          "output_type": "execute_result",
          "data": {
            "text/plain": [
              "array([ 40835.10590871, 123079.39940819,  65134.55626083,  63265.36777221,\n",
              "       115602.64545369, 108125.8914992 , 116537.23969801,  64199.96201652,\n",
              "        76349.68719258, 100649.1375447 ])"
            ]
          },
          "metadata": {
            "tags": []
          },
          "execution_count": 149
        }
      ]
    },
    {
      "cell_type": "code",
      "metadata": {
        "colab": {
          "base_uri": "https://localhost:8080/"
        },
        "id": "2wTYyKtZrIpe",
        "outputId": "e5d2c7e6-32a8-4088-889b-020d3d8395ad"
      },
      "source": [
        "y_pred1 = regeressor.predict([[4]])\n",
        "y_pred1\n",
        "\n",
        "#see i writ 4 in 2d array bcz our train and test data is 2d array"
      ],
      "execution_count": 150,
      "outputs": [
        {
          "output_type": "execute_result",
          "data": {
            "text/plain": [
              "array([64199.96201652])"
            ]
          },
          "metadata": {
            "tags": []
          },
          "execution_count": 150
        }
      ]
    },
    {
      "cell_type": "code",
      "metadata": {
        "colab": {
          "base_uri": "https://localhost:8080/"
        },
        "id": "ouNYhdCttudF",
        "outputId": "25aeb270-2964-487b-df92-82a706aac848"
      },
      "source": [
        "y_pred1 = regeressor.predict([[7]])\n",
        "y_pred1"
      ],
      "execution_count": 151,
      "outputs": [
        {
          "output_type": "execute_result",
          "data": {
            "text/plain": [
              "array([92237.78934589])"
            ]
          },
          "metadata": {
            "tags": []
          },
          "execution_count": 151
        }
      ]
    },
    {
      "cell_type": "code",
      "metadata": {
        "colab": {
          "base_uri": "https://localhost:8080/"
        },
        "id": "LxoF5v_AuxCC",
        "outputId": "7412e499-266a-4563-8260-be6ddc31d74c"
      },
      "source": [
        "#you can seee your accuracy ,how well your dataset train or test\n",
        "regeressor.score(x_train,y_train)"
      ],
      "execution_count": 152,
      "outputs": [
        {
          "output_type": "execute_result",
          "data": {
            "text/plain": [
              "0.9381900012894278"
            ]
          },
          "metadata": {
            "tags": []
          },
          "execution_count": 152
        }
      ]
    },
    {
      "cell_type": "code",
      "metadata": {
        "colab": {
          "base_uri": "https://localhost:8080/"
        },
        "id": "udiRoHfrvu18",
        "outputId": "7808a023-f292-4477-ca20-e5a5808ccb6b"
      },
      "source": [
        "regeressor.score(x_test,y_test)"
      ],
      "execution_count": 153,
      "outputs": [
        {
          "output_type": "execute_result",
          "data": {
            "text/plain": [
              "0.9749154407708353"
            ]
          },
          "metadata": {
            "tags": []
          },
          "execution_count": 153
        }
      ]
    },
    {
      "cell_type": "code",
      "metadata": {
        "id": "vnVRG35Yv3f9"
      },
      "source": [
        "import matplotlib.pyplot as plt"
      ],
      "execution_count": 154,
      "outputs": []
    },
    {
      "cell_type": "code",
      "metadata": {
        "colab": {
          "base_uri": "https://localhost:8080/",
          "height": 312
        },
        "id": "hdDxiOd3zjxV",
        "outputId": "1b352fc3-a857-4be1-ca00-a6c2b05107c9"
      },
      "source": [
        "#plot your data and see simple linear regression\n",
        "#see what your predict value line and your train data\n",
        "#scatter means doted graph\n",
        "plt.scatter(x_train,y_train,color='red')\n",
        "#see your predicted line in traing dataset\n",
        "plt.plot(x_train,regeressor.predict(x_train),color='blue')\n",
        "plt.xlabel('Year of experience')\n",
        "plt.ylabel('Salary')\n",
        "plt.title('Salary vs Experience(Training set)')"
      ],
      "execution_count": 155,
      "outputs": [
        {
          "output_type": "execute_result",
          "data": {
            "text/plain": [
              "Text(0.5, 1.0, 'Salary vs Experience(Training set)')"
            ]
          },
          "metadata": {
            "tags": []
          },
          "execution_count": 155
        },
        {
          "output_type": "display_data",
          "data": {
            "image/png": "[encoded data removed]",
            "text/plain": [
              "<Figure size 432x288 with 1 Axes>"
            ]
          },
          "metadata": {
            "tags": [],
            "needs_background": "light"
          }
        }
      ]
    },
    {
      "cell_type": "code",
      "metadata": {
        "colab": {
          "base_uri": "https://localhost:8080/",
          "height": 35
        },
        "id": "YYjXKAXD47gA",
        "outputId": "19ba5914-01e1-433d-a0d7-6ad885667980"
      },
      "source": [
        "#you write regeressor.predict(y_train) in plt.plot(x_train,regeressor.predict(x_train),color='blue') than error will be occure bcz our y_train data is 1d array\n",
        "#so you can reshape y_train also\n",
        "\"\"\"\n",
        "import numpy as np\n",
        "y_train = np.array(y_train)\n",
        "y_train = y_train.reshape((20,1))\n",
        "y_train\n",
        "\"\"\""
      ],
      "execution_count": 156,
      "outputs": [
        {
          "output_type": "execute_result",
          "data": {
            "application/vnd.google.colaboratory.intrinsic+json": {
              "type": "string"
            },
            "text/plain": [
              "'\\nimport numpy as np\\ny_train = np.array(y_train)\\ny_train = y_train.reshape((20,1))\\ny_train\\n'"
            ]
          },
          "metadata": {
            "tags": []
          },
          "execution_count": 156
        }
      ]
    },
    {
      "cell_type": "code",
      "metadata": {
        "colab": {
          "base_uri": "https://localhost:8080/",
          "height": 312
        },
        "id": "i21pBPo85yAQ",
        "outputId": "3d088094-5d67-49c8-e474-02841930b764"
      },
      "source": [
        "#plot your data and see simple linear regression\n",
        "#see what your predict value line and your train data\n",
        "#scatter means doted graph\n",
        "plt.scatter(x_test,y_test,color='red')\n",
        "#see your predicted line in traing dataset\n",
        "plt.plot(x_test,regeressor.predict(x_test),color='blue')\n",
        "plt.xlabel('Year of experience')\n",
        "plt.ylabel('Salary')\n",
        "plt.title('Salary vs Experience(Testing set)')"
      ],
      "execution_count": 157,
      "outputs": [
        {
          "output_type": "execute_result",
          "data": {
            "text/plain": [
              "Text(0.5, 1.0, 'Salary vs Experience(Testing set)')"
            ]
          },
          "metadata": {
            "tags": []
          },
          "execution_count": 157
        },
        {
          "output_type": "display_data",
          "data": {
            "image/png": "[encoded data removed]",
            "text/plain": [
              "<Figure size 432x288 with 1 Axes>"
            ]
          },
          "metadata": {
            "tags": [],
            "needs_background": "light"
          }
        }
      ]
    },
    {
      "cell_type": "code",
      "metadata": {
        "colab": {
          "base_uri": "https://localhost:8080/"
        },
        "id": "3FLNiFCI6B1G",
        "outputId": "2352b3f6-3f4a-4bf6-891a-ffa39b729cae"
      },
      "source": [
        "#how to save or dump your accuracy model \n",
        "#use library\n",
        "\n",
        "import pickle\n",
        "from sklearn.externals import joblib\n",
        "#save your model in .plk file\n",
        "#joblib.dump(model_name,'filename.pkl')\n",
        "joblib.dump(regeressor,'myregressor.pkl')"
      ],
      "execution_count": 158,
      "outputs": [
        {
          "output_type": "execute_result",
          "data": {
            "text/plain": [
              "['myregressor.pkl']"
            ]
          },
          "metadata": {
            "tags": []
          },
          "execution_count": 158
        }
      ]
    },
    {
      "cell_type": "code",
      "metadata": {
        "id": "4RSQc7s28NPK"
      },
      "source": [
        "#read or load pkl file\n",
        "my_pkl_file = joblib.load('myregressor.pkl')"
      ],
      "execution_count": 159,
      "outputs": []
    },
    {
      "cell_type": "code",
      "metadata": {
        "colab": {
          "base_uri": "https://localhost:8080/"
        },
        "id": "nFifBaSI9BbE",
        "outputId": "d2e41555-c7e7-4a7b-f316-c2428b1ef4a8"
      },
      "source": [
        "y_pred = my_pkl_file.predict([[7]])\n",
        "y_pred"
      ],
      "execution_count": 160,
      "outputs": [
        {
          "output_type": "execute_result",
          "data": {
            "text/plain": [
              "array([92237.78934589])"
            ]
          },
          "metadata": {
            "tags": []
          },
          "execution_count": 160
        }
      ]
    },
    {
      "cell_type": "code",
      "metadata": {
        "colab": {
          "base_uri": "https://localhost:8080/"
        },
        "id": "b1Z0HzPd9cl3",
        "outputId": "d0b2d291-d339-4b94-8831-550d03662fd2"
      },
      "source": [
        "y_pred = my_pkl_file.predict(x_test)\n",
        "y_pred"
      ],
      "execution_count": 161,
      "outputs": [
        {
          "output_type": "execute_result",
          "data": {
            "text/plain": [
              "array([ 40835.10590871, 123079.39940819,  65134.55626083,  63265.36777221,\n",
              "       115602.64545369, 108125.8914992 , 116537.23969801,  64199.96201652,\n",
              "        76349.68719258, 100649.1375447 ])"
            ]
          },
          "metadata": {
            "tags": []
          },
          "execution_count": 161
        }
      ]
    },
    {
      "cell_type": "code",
      "metadata": {
        "colab": {
          "base_uri": "https://localhost:8080/"
        },
        "id": "WFCqnr2t9kek",
        "outputId": "854008ac-b2b8-41d2-8d23-b3404b385c84"
      },
      "source": [
        "y_pred = my_pkl_file.predict(x_train)\n",
        "y_pred"
      ],
      "execution_count": 162,
      "outputs": [
        {
          "output_type": "execute_result",
          "data": {
            "text/plain": [
              "array([ 53919.42532909,  74480.49870396,  56723.20806202,  68872.93323808,\n",
              "       103452.92027763,  90368.60085726,  38965.91742009, 124948.58789682,\n",
              "        54854.0195734 ,  47377.2656189 ,  81957.25265845,  82891.84690277,\n",
              "        61396.17928358,  56723.20806202, 110929.67423213,  45508.07713028,\n",
              "        37096.72893147,  93172.3835902 ,  72611.31021533,  64199.96201652])"
            ]
          },
          "metadata": {
            "tags": []
          },
          "execution_count": 162
        }
      ]
    }
  ]
}