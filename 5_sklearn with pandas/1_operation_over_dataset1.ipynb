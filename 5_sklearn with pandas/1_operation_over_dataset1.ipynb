{
  "nbformat": 4,
  "nbformat_minor": 0,
  "metadata": {
    "colab": {
      "name": "DSMLpractical_2.ipynb",
      "provenance": []
    },
    "kernelspec": {
      "name": "python3",
      "display_name": "Python 3"
    },
    "language_info": {
      "name": "python"
    }
  },
  "cells": [
    {
      "cell_type": "code",
      "metadata": {
        "id": "lfbtVLaBHgQC"
      },
      "source": [
        "#----dataset1 define man able to purchase Audi car or not------------------------------\n",
        "#you want to perform some operations on your dataset than \n",
        "#step 1 - fill up or impute missing value\n",
        "#step 2 - Handling categorical dataset like string and int and so many things"
      ],
      "execution_count": null,
      "outputs": []
    },
    {
      "cell_type": "code",
      "metadata": {
        "id": "wxUbooRZLxAg"
      },
      "source": [
        "import pandas as pd\n",
        "import numpy as np"
      ],
      "execution_count": null,
      "outputs": []
    },
    {
      "cell_type": "code",
      "metadata": {
        "id": "6n4eDB-dL1-I"
      },
      "source": [
        "dataset = pd.read_csv('/content/dataset1.csv')"
      ],
      "execution_count": null,
      "outputs": []
    },
    {
      "cell_type": "code",
      "metadata": {
        "colab": {
          "base_uri": "https://localhost:8080/"
        },
        "id": "T0vvi8TtMAhs",
        "outputId": "1cc575be-304c-4a74-d6f5-994507e33912"
      },
      "source": [
        "#now devide our dataset into two part\n",
        "x = dataset.iloc[:,:-1].values \n",
        "x\n",
        "#x is our input and iloc[row,column] you write only \":\" then this defined 0:n row or column\n",
        "#you write :-1 then is defined 0:-1 "
      ],
      "execution_count": null,
      "outputs": [
        {
          "output_type": "execute_result",
          "data": {
            "text/plain": [
              "array([['France', 44.0, 72000.0],\n",
              "       ['Spain', 27.0, 48000.0],\n",
              "       ['Germany', 30.0, 54000.0],\n",
              "       ['Spain', 38.0, 61000.0],\n",
              "       ['Germany', 40.0, nan],\n",
              "       ['France', 35.0, 58000.0],\n",
              "       ['Spain', nan, 52000.0],\n",
              "       ['France', 48.0, 79000.0],\n",
              "       ['Germany', 50.0, 83000.0],\n",
              "       ['France', 37.0, 67000.0]], dtype=object)"
            ]
          },
          "metadata": {
            "tags": []
          },
          "execution_count": 30
        }
      ]
    },
    {
      "cell_type": "code",
      "metadata": {
        "colab": {
          "base_uri": "https://localhost:8080/"
        },
        "id": "HWx14wLbOG67",
        "outputId": "51116a64-e01f-4f18-9b23-c492523ceb7e"
      },
      "source": [
        "#y is our output\n",
        "y = dataset.iloc[:,-1].values\n",
        "y"
      ],
      "execution_count": null,
      "outputs": [
        {
          "output_type": "execute_result",
          "data": {
            "text/plain": [
              "array(['No', 'Yes', 'No', 'No', 'Yes', 'Yes', 'No', 'Yes', 'No', 'Yes'],\n",
              "      dtype=object)"
            ]
          },
          "metadata": {
            "tags": []
          },
          "execution_count": 31
        }
      ]
    },
    {
      "cell_type": "code",
      "metadata": {
        "id": "KdPfKEUZO_zs"
      },
      "source": [
        "#what is Median\n",
        "#Ex- 1,9,4,7,12,67,23,13\n",
        "#stpe-1 make data in ascending order -->> 1,4,7,9,12,13,23,67\n",
        "#find middle value -->> 9 and 12 then---> 9 + 12 = 21/2 = 10.5 is our Median\n",
        "#Ex - 1,7,2,5,4,3,9\n",
        "#step 1 ---> 1,2,3,4,5,7,9 --> 4 is Median"
      ],
      "execution_count": null,
      "outputs": []
    },
    {
      "cell_type": "code",
      "metadata": {
        "id": "zznehKIUS_gP"
      },
      "source": [
        "#most frequent value\n",
        "#Ex - 1,5,2,7,1,6,1,6,1,9,1 --->> most frequent value is 1"
      ],
      "execution_count": null,
      "outputs": []
    },
    {
      "cell_type": "code",
      "metadata": {
        "colab": {
          "base_uri": "https://localhost:8080/"
        },
        "id": "4MesNHbtTSeQ",
        "outputId": "b254120f-0549-456c-bbb4-f44dffa45491"
      },
      "source": [
        "#use for fill missing values in our dataset\n",
        "from sklearn.impute import SimpleImputer\n",
        "#step 1:read to fill missing value as \"mean\"\n",
        "imputer = SimpleImputer(missing_values=np.nan,strategy='mean')\n",
        "#step 2:which dataset and which place you apply this imputer and you can't use fit for string so i choose 1:3 column \n",
        "imputer = imputer.fit(x[:,1:3]) \n",
        "#step 3:transfer value nan to mean value and store \n",
        "x[:,1:3] = imputer.transform(x[:,1:3])\n",
        "x\n",
        "\n",
        "#see output NaN value fill by 'mean value'"
      ],
      "execution_count": null,
      "outputs": [
        {
          "output_type": "execute_result",
          "data": {
            "text/plain": [
              "array([['France', 44.0, 72000.0],\n",
              "       ['Spain', 27.0, 48000.0],\n",
              "       ['Germany', 30.0, 54000.0],\n",
              "       ['Spain', 38.0, 61000.0],\n",
              "       ['Germany', 40.0, 63777.77777777778],\n",
              "       ['France', 35.0, 58000.0],\n",
              "       ['Spain', 38.77777777777778, 52000.0],\n",
              "       ['France', 48.0, 79000.0],\n",
              "       ['Germany', 50.0, 83000.0],\n",
              "       ['France', 37.0, 67000.0]], dtype=object)"
            ]
          },
          "metadata": {
            "tags": []
          },
          "execution_count": 34
        }
      ]
    },
    {
      "cell_type": "code",
      "metadata": {
        "id": "WmqQl_psUxxf"
      },
      "source": [
        "#you can see your x 0th column(country name) not a Numerical data,this a categorical data\n",
        "#so, you want to transfer your categorical data to numerical data\n",
        "#Three tpye of method use for transfer data set cat.. to num..\n",
        "#LabelEncoder\n",
        "#OneHotEncoder\n",
        "#CountVectorizer"
      ],
      "execution_count": null,
      "outputs": []
    },
    {
      "cell_type": "code",
      "metadata": {
        "colab": {
          "base_uri": "https://localhost:8080/"
        },
        "id": "N-pT8mJIkxCM",
        "outputId": "b6a7abca-ec2d-48c5-a030-b98feec45314"
      },
      "source": [
        "#transfer cat.. to num..\n",
        "from sklearn.preprocessing import LabelEncoder\n",
        "lebelEncoder_of_x = LabelEncoder()\n",
        "#fit and transfer perfrom both then write \"fit_transfer\"\n",
        "x[:,0] = lebelEncoder_of_x.fit_transform(x[:,0])\n",
        "x\n",
        "\n",
        "#see o/p your data is encode with numerical \n",
        "#like France's F is first of A to Z then put 0\n",
        "#like Germany's G is second of A to Z then put 1\n",
        "#Spain's S is third of A to Z then put 2"
      ],
      "execution_count": null,
      "outputs": [
        {
          "output_type": "execute_result",
          "data": {
            "text/plain": [
              "array([[0, 44.0, 72000.0],\n",
              "       [2, 27.0, 48000.0],\n",
              "       [1, 30.0, 54000.0],\n",
              "       [2, 38.0, 61000.0],\n",
              "       [1, 40.0, 63777.77777777778],\n",
              "       [0, 35.0, 58000.0],\n",
              "       [2, 38.77777777777778, 52000.0],\n",
              "       [0, 48.0, 79000.0],\n",
              "       [1, 50.0, 83000.0],\n",
              "       [0, 37.0, 67000.0]], dtype=object)"
            ]
          },
          "metadata": {
            "tags": []
          },
          "execution_count": 36
        }
      ]
    },
    {
      "cell_type": "code",
      "metadata": {
        "id": "aNbX05ZRllPh"
      },
      "source": [
        "#i look at our x is input and y is output\n",
        "#i want to split my data set into training and tesing part\n",
        "#training -->> training means first i train my machine for give my expected output\n",
        "#testing ---->> means i test my trainable output is occur or not"
      ],
      "execution_count": null,
      "outputs": []
    },
    {
      "cell_type": "code",
      "metadata": {
        "id": "MId-FD2Eps-2"
      },
      "source": [
        "#devide my data \n",
        "from sklearn.model_selection import train_test_split\n",
        "x_train,x_test,y_train,y_test = train_test_split(x,y,test_size=0.2,random_state = 0)\n",
        "\n",
        "#test_size = 0.2 means 20% data use for test and 80% data use for traing\n",
        "#you can also define \"train_size\""
      ],
      "execution_count": null,
      "outputs": []
    },
    {
      "cell_type": "code",
      "metadata": {
        "colab": {
          "base_uri": "https://localhost:8080/"
        },
        "id": "y0fR-NfIqVY3",
        "outputId": "0c440e2e-21e5-49e0-c4a9-3f6e344636c9"
      },
      "source": [
        "x_train"
      ],
      "execution_count": null,
      "outputs": [
        {
          "output_type": "execute_result",
          "data": {
            "text/plain": [
              "array([[1, 40.0, 63777.77777777778],\n",
              "       [0, 37.0, 67000.0],\n",
              "       [2, 27.0, 48000.0],\n",
              "       [2, 38.77777777777778, 52000.0],\n",
              "       [0, 48.0, 79000.0],\n",
              "       [2, 38.0, 61000.0],\n",
              "       [0, 44.0, 72000.0],\n",
              "       [0, 35.0, 58000.0]], dtype=object)"
            ]
          },
          "metadata": {
            "tags": []
          },
          "execution_count": 39
        }
      ]
    },
    {
      "cell_type": "code",
      "metadata": {
        "colab": {
          "base_uri": "https://localhost:8080/"
        },
        "id": "cWf7-4IpqcU7",
        "outputId": "973c6ec5-76fb-4c1d-cbb8-dff6ea22321f"
      },
      "source": [
        "x_test"
      ],
      "execution_count": null,
      "outputs": [
        {
          "output_type": "execute_result",
          "data": {
            "text/plain": [
              "array([[1, 30.0, 54000.0],\n",
              "       [1, 50.0, 83000.0]], dtype=object)"
            ]
          },
          "metadata": {
            "tags": []
          },
          "execution_count": 40
        }
      ]
    },
    {
      "cell_type": "code",
      "metadata": {
        "colab": {
          "base_uri": "https://localhost:8080/"
        },
        "id": "m_LgTsLOqwHW",
        "outputId": "d0a20696-4327-4d94-f1d6-c66a905ba273"
      },
      "source": [
        "y_train"
      ],
      "execution_count": null,
      "outputs": [
        {
          "output_type": "execute_result",
          "data": {
            "text/plain": [
              "array(['Yes', 'Yes', 'Yes', 'No', 'Yes', 'No', 'No', 'Yes'], dtype=object)"
            ]
          },
          "metadata": {
            "tags": []
          },
          "execution_count": 41
        }
      ]
    },
    {
      "cell_type": "code",
      "metadata": {
        "colab": {
          "base_uri": "https://localhost:8080/"
        },
        "id": "saLgROScq2kq",
        "outputId": "c21913ea-c613-4317-aec9-5512d7f2062d"
      },
      "source": [
        "y_test"
      ],
      "execution_count": null,
      "outputs": [
        {
          "output_type": "execute_result",
          "data": {
            "text/plain": [
              "array(['No', 'No'], dtype=object)"
            ]
          },
          "metadata": {
            "tags": []
          },
          "execution_count": 42
        }
      ]
    },
    {
      "cell_type": "code",
      "metadata": {
        "id": "NFSythX7q6RV"
      },
      "source": [
        "#1000000000 + 1 = 1000000001\n",
        "#but 1000000000 is vary vary large value as compair to 1 so our machine remove this value \n",
        "#but some cases vary small value is vary important \n",
        "#so, you not niglat small value when large value is available then you use \"Feature  Scaling\""
      ],
      "execution_count": null,
      "outputs": []
    },
    {
      "cell_type": "code",
      "metadata": {
        "id": "j24vyq1VVa9o"
      },
      "source": [
        "#Feature Scaling--->\n",
        "#1)MinMaxScaler\n",
        "#2)Standard Scaler"
      ],
      "execution_count": null,
      "outputs": []
    },
    {
      "cell_type": "code",
      "metadata": {
        "id": "fT9HwmESVu0J"
      },
      "source": [
        "#MinMaxScaler--->\n",
        "# our Data --> x = 2,4,1,6\n",
        "\"\"\" \n",
        "Min_Max(2) = (x - xmin) / (xmax - xmin)\n",
        "        = (2 - 1)/(6 - 1)\n",
        "        = 0.2\n",
        "Min_Max(4) = (4 - 1)/(6 - 1) = 0.6\n",
        "Min_Max(1) = (1 - 1)/(6 - 1) = 0\n",
        "Min_Max(6) = (6 - 1)/(6 - 1) = 1\n",
        "\"\"\""
      ],
      "execution_count": null,
      "outputs": []
    },
    {
      "cell_type": "code",
      "metadata": {
        "id": "HooGxkoqXDNJ"
      },
      "source": [
        "#Standard Scaler--->\n",
        "#our Data --> x = 2,4,1,6\n",
        "\"\"\"\n",
        "Standard Scaler = (x - u) / s\n",
        "u ---> mean of x -->> (2+4+1+6)/4 = 3.25\n",
        "s ---> standard deviation\n",
        "s = https://www.google.com/search?q=standard+deviation&oq=standard+deviation&aqs=chrome..69i57j0i433j69i59l2j69i60l3.368j0j7&sourceid=chrome&ie=UTF-8\n",
        "s = sqrt[(2-3.25)^2 + (1-3.25)^2 + (4-3.25)^2 + (6-3.25)^2 )/4]\n",
        "\"\"\""
      ],
      "execution_count": null,
      "outputs": []
    },
    {
      "cell_type": "code",
      "metadata": {
        "id": "BXG0s_hzaypD"
      },
      "source": [
        "#example of StandardScaler\n",
        "from sklearn.preprocessing import StandardScaler\n",
        "StandardScaler_of_x = StandardScaler()\n",
        "x_train1 = StandardScaler_of_x.fit_transform(x_train)\n",
        "x_test1 = StandardScaler_of_x.fit_transform(x_test)"
      ],
      "execution_count": null,
      "outputs": []
    },
    {
      "cell_type": "code",
      "metadata": {
        "colab": {
          "base_uri": "https://localhost:8080/"
        },
        "id": "2axcoyZadrsH",
        "outputId": "27d06bac-59a3-4e3d-a2a1-fefdf702df12"
      },
      "source": [
        "x_train1"
      ],
      "execution_count": null,
      "outputs": [
        {
          "output_type": "execute_result",
          "data": {
            "text/plain": [
              "array([[ 0.13483997,  0.26306757,  0.12381479],\n",
              "       [-0.94387981, -0.25350148,  0.46175632],\n",
              "       [ 1.21355975, -1.97539832, -1.53093341],\n",
              "       [ 1.21355975,  0.05261351, -1.11141978],\n",
              "       [-0.94387981,  1.64058505,  1.7202972 ],\n",
              "       [ 1.21355975, -0.0813118 , -0.16751412],\n",
              "       [-0.94387981,  0.95182631,  0.98614835],\n",
              "       [-0.94387981, -0.59788085, -0.48214934]])"
            ]
          },
          "metadata": {
            "tags": []
          },
          "execution_count": 48
        }
      ]
    },
    {
      "cell_type": "code",
      "metadata": {
        "colab": {
          "base_uri": "https://localhost:8080/"
        },
        "id": "hfWhw7wSdtDG",
        "outputId": "7ee7644b-8dd6-4705-c0ac-165a12d8f16f"
      },
      "source": [
        "x_test1"
      ],
      "execution_count": null,
      "outputs": [
        {
          "output_type": "execute_result",
          "data": {
            "text/plain": [
              "array([[ 0., -1., -1.],\n",
              "       [ 0.,  1.,  1.]])"
            ]
          },
          "metadata": {
            "tags": []
          },
          "execution_count": 49
        }
      ]
    },
    {
      "cell_type": "code",
      "metadata": {
        "id": "iZ9x69tmbre2"
      },
      "source": [
        "#example of MinMaxScaler\n",
        "from sklearn.preprocessing import MinMaxScaler\n",
        "MinMaxScaler_of_x = MinMaxScaler()\n",
        "x_train2 = MinMaxScaler_of_x.fit_transform(x_train)\n",
        "x_test2 = MinMaxScaler_of_x.fit_transform(x_test)"
      ],
      "execution_count": null,
      "outputs": []
    },
    {
      "cell_type": "code",
      "metadata": {
        "colab": {
          "base_uri": "https://localhost:8080/"
        },
        "id": "3oho0B0VdHey",
        "outputId": "18aa360f-2ca7-42a3-a028-4f1fd66783aa"
      },
      "source": [
        "x_train2"
      ],
      "execution_count": null,
      "outputs": [
        {
          "output_type": "execute_result",
          "data": {
            "text/plain": [
              "array([[0.5       , 0.61904762, 0.50896057],\n",
              "       [0.        , 0.47619048, 0.61290323],\n",
              "       [1.        , 0.        , 0.        ],\n",
              "       [1.        , 0.56084656, 0.12903226],\n",
              "       [0.        , 1.        , 1.        ],\n",
              "       [1.        , 0.52380952, 0.41935484],\n",
              "       [0.        , 0.80952381, 0.77419355],\n",
              "       [0.        , 0.38095238, 0.32258065]])"
            ]
          },
          "metadata": {
            "tags": []
          },
          "execution_count": 51
        }
      ]
    },
    {
      "cell_type": "code",
      "metadata": {
        "colab": {
          "base_uri": "https://localhost:8080/"
        },
        "id": "9_HolYAQd0Ti",
        "outputId": "f6664b66-17dc-4895-bce9-0a7043df4d95"
      },
      "source": [
        "x_test2"
      ],
      "execution_count": null,
      "outputs": [
        {
          "output_type": "execute_result",
          "data": {
            "text/plain": [
              "array([[0., 0., 0.],\n",
              "       [0., 1., 1.]])"
            ]
          },
          "metadata": {
            "tags": []
          },
          "execution_count": 52
        }
      ]
    }
  ]
}